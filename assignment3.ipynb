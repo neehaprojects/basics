{
 "cells": [
  {
   "cell_type": "code",
   "execution_count": null,
   "id": "b8fa9a90",
   "metadata": {},
   "outputs": [],
   "source": [
    "1. Why are functions advantageous to have in your programs?"
   ]
  },
  {
   "cell_type": "code",
   "execution_count": null,
   "id": "b56c899c",
   "metadata": {},
   "outputs": [],
   "source": [
    "A)functions are block of codes which can reusable. it provides better modularity also functions are organised,\n",
    "it has high end reusability. makes program simple and short, avoids duplicate code and easy to update code."
   ]
  },
  {
   "cell_type": "code",
   "execution_count": null,
   "id": "4d8575d2",
   "metadata": {},
   "outputs": [],
   "source": [
    "2. When does the code in a function run: when it's specified or when it's called?"
   ]
  },
  {
   "cell_type": "code",
   "execution_count": null,
   "id": "fd10de45",
   "metadata": {},
   "outputs": [],
   "source": [
    "A)code in a function run by 'calling a function', not by specifing  "
   ]
  },
  {
   "cell_type": "code",
   "execution_count": null,
   "id": "ceb1569b",
   "metadata": {},
   "outputs": [],
   "source": [
    "3.What statement creates a function?"
   ]
  },
  {
   "cell_type": "code",
   "execution_count": null,
   "id": "05373e80",
   "metadata": {},
   "outputs": [],
   "source": [
    "A) def statment creates a function"
   ]
  },
  {
   "cell_type": "code",
   "execution_count": null,
   "id": "7b28df64",
   "metadata": {},
   "outputs": [],
   "source": [
    "4. What is the difference between a function and a function call?"
   ]
  },
  {
   "cell_type": "code",
   "execution_count": null,
   "id": "8e0bbcf4",
   "metadata": {},
   "outputs": [],
   "source": [
    "A) function starts with definition, i.e,def, then function gives its name, specifies parameters in the (). \n",
    " once defining a function and function structure is completed, we call the function by its function name for excution.\n",
    "    function call moves the excution to function and it evalutes the return value. "
   ]
  },
  {
   "cell_type": "code",
   "execution_count": null,
   "id": "cfdf73e3",
   "metadata": {},
   "outputs": [],
   "source": [
    "5. How many global scopes are there in a Python program? How many local scopes?"
   ]
  },
  {
   "cell_type": "code",
   "execution_count": null,
   "id": "690b151a",
   "metadata": {},
   "outputs": [],
   "source": [
    "A)one global scope because global variable defined in main body of python once, it will be used any where in program. \n",
    "local scopes depends on functions, local scopes are created when ever a function called. it can be used only the inside function"
   ]
  },
  {
   "cell_type": "code",
   "execution_count": null,
   "id": "712d9666",
   "metadata": {},
   "outputs": [],
   "source": [
    "6. What happens to variables in a local scope when the function call returns?"
   ]
  },
  {
   "cell_type": "code",
   "execution_count": null,
   "id": "0c61b280",
   "metadata": {},
   "outputs": [],
   "source": [
    "A) when a function returns, the variables in a local scope ends and the variables are forgotten."
   ]
  },
  {
   "cell_type": "code",
   "execution_count": null,
   "id": "6b5588c2",
   "metadata": {},
   "outputs": [],
   "source": [
    "7. What is the concept of a return value? Is it possible to have a return value in an expression?"
   ]
  },
  {
   "cell_type": "code",
   "execution_count": null,
   "id": "b1062406",
   "metadata": {},
   "outputs": [],
   "source": [
    "A) By calling return ends the excution of function call and returns the value to the caller i.e, return value. \n",
    "return value used as a part of expression."
   ]
  },
  {
   "cell_type": "code",
   "execution_count": null,
   "id": "12c10988",
   "metadata": {},
   "outputs": [],
   "source": [
    "8. If a function does not have a return statement, what is the return value of a call to that function?"
   ]
  },
  {
   "cell_type": "code",
   "execution_count": null,
   "id": "e808444d",
   "metadata": {},
   "outputs": [],
   "source": [
    "A) if we dont have a return statement, return value of a function call is 'NONE'"
   ]
  },
  {
   "cell_type": "code",
   "execution_count": null,
   "id": "7a2534f1",
   "metadata": {},
   "outputs": [],
   "source": [
    "9. How do you make a function variable refer to the global variable?"
   ]
  },
  {
   "cell_type": "code",
   "execution_count": null,
   "id": "a340d020",
   "metadata": {},
   "outputs": [],
   "source": [
    "A)by using 'global' keyword, we define function variable with global keyword then it act as global key word"
   ]
  },
  {
   "cell_type": "code",
   "execution_count": null,
   "id": "d90b36f7",
   "metadata": {},
   "outputs": [],
   "source": [
    "10. What is the data type of None?"
   ]
  },
  {
   "cell_type": "code",
   "execution_count": null,
   "id": "38d556f5",
   "metadata": {},
   "outputs": [],
   "source": [
    "A) 'None type'"
   ]
  },
  {
   "cell_type": "code",
   "execution_count": null,
   "id": "3f9e3d75",
   "metadata": {},
   "outputs": [],
   "source": [
    "11. What does the sentence import areallyourpetsnamederic do?"
   ]
  },
  {
   "cell_type": "code",
   "execution_count": null,
   "id": "b800b032",
   "metadata": {},
   "outputs": [],
   "source": [
    "A)it 'imports the areallyourpetsnamederic module'"
   ]
  },
  {
   "cell_type": "code",
   "execution_count": null,
   "id": "5340ce87",
   "metadata": {},
   "outputs": [],
   "source": [
    "12. If you had a bacon() feature in a spam module, what would you call it after importing spam?"
   ]
  },
  {
   "cell_type": "code",
   "execution_count": null,
   "id": "30c236f2",
   "metadata": {},
   "outputs": [],
   "source": [
    "A) 'spam.bacon()''"
   ]
  },
  {
   "cell_type": "code",
   "execution_count": null,
   "id": "bdfa0e33",
   "metadata": {},
   "outputs": [],
   "source": [
    "13. What can you do to save a programme from crashing if it encounters an error?"
   ]
  },
  {
   "cell_type": "code",
   "execution_count": null,
   "id": "b2fff7ed",
   "metadata": {},
   "outputs": [],
   "source": [
    "A) i will put that line of code causing an error in a try clause"
   ]
  },
  {
   "cell_type": "code",
   "execution_count": null,
   "id": "689977cf",
   "metadata": {},
   "outputs": [],
   "source": [
    "14. What is the purpose of the try clause? What is the purpose of the except clause?"
   ]
  },
  {
   "cell_type": "code",
   "execution_count": null,
   "id": "c612bdcc",
   "metadata": {},
   "outputs": [],
   "source": [
    "A) try clause test the block of code for errors, except clause excutes the code regard less of errors"
   ]
  }
 ],
 "metadata": {
  "kernelspec": {
   "display_name": "Python 3 (ipykernel)",
   "language": "python",
   "name": "python3"
  },
  "language_info": {
   "codemirror_mode": {
    "name": "ipython",
    "version": 3
   },
   "file_extension": ".py",
   "mimetype": "text/x-python",
   "name": "python",
   "nbconvert_exporter": "python",
   "pygments_lexer": "ipython3",
   "version": "3.9.7"
  }
 },
 "nbformat": 4,
 "nbformat_minor": 5
}
