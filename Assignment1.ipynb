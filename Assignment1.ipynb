{
 "cells": [
  {
   "cell_type": "code",
   "execution_count": null,
   "id": "9c7ce6ed",
   "metadata": {},
   "outputs": [],
   "source": [
    "1. In the below elements which of them are values or an expression? \n",
    "eg:- values can be integer or string and expressions will be mathematical operators.\n",
    "a) * mathematical opearator\n",
    "   'hello' string\n",
    "   -87.8  float value\n",
    "   - mathematical opearator\n",
    "   / mathematical opearator\n",
    "   + mathematical opearator\n",
    "   6 integer\n"
   ]
  },
  {
   "cell_type": "code",
   "execution_count": null,
   "id": "4c1cc19c",
   "metadata": {},
   "outputs": [],
   "source": [
    "2. What is the difference between string and variable?\n",
    "a) String is a collection of alphabets, words or other characters. \n",
    "   a variable is a reserved memory location to store values. \n",
    "   The declaration happens automatically when you assign a value to a variable.\n"
   ]
  },
  {
   "cell_type": "code",
   "execution_count": null,
   "id": "19af539b",
   "metadata": {},
   "outputs": [],
   "source": [
    "3. Describe three different data types.\n",
    "a) Text Type: str\n",
    "   Numeric Types: int, float, complex\n",
    "   Sequence Types: list, tuple, range\n"
   ]
  },
  {
   "cell_type": "code",
   "execution_count": null,
   "id": "9e18e368",
   "metadata": {},
   "outputs": [],
   "source": [
    "4. What is an expression made up of? What do all expressions do?\n",
    "a) An expression is a combination of operators and operands that is interpreted to produce some other value. \n",
    "Expressions do constant opearations, arithmetic opearations, logical opearations, bitwise opearations etc..\n"
   ]
  },
  {
   "cell_type": "code",
   "execution_count": null,
   "id": "4f30c0cb",
   "metadata": {},
   "outputs": [],
   "source": [
    "5. This assignment statements, like spam = 10. What is the difference between an expression and a statement?\n",
    "a) An expression is any legal combination of symbols that represents a value. For example, 2.9, a + 5, (3 + 5) / 4.\n",
    "A statement is a programming instruction that does something i.e. some action takes place. For example: print(\"Hello\")\n",
    "spam = 10 is a expression\n"
   ]
  },
  {
   "cell_type": "code",
   "execution_count": 3,
   "id": "e875cdb8",
   "metadata": {},
   "outputs": [],
   "source": [
    "spam=10"
   ]
  },
  {
   "cell_type": "code",
   "execution_count": 4,
   "id": "39bc8d0b",
   "metadata": {},
   "outputs": [
    {
     "name": "stdout",
     "output_type": "stream",
     "text": [
      "spam=10 is an expression\n"
     ]
    }
   ],
   "source": [
    "print(\"spam=10 is an expression\")"
   ]
  },
  {
   "cell_type": "code",
   "execution_count": null,
   "id": "d868fb89",
   "metadata": {},
   "outputs": [],
   "source": [
    "6. After running the following code, what does the variable bacon contain?\n",
    "bacon = 22\n",
    "bacon + 1\n",
    "a) bacon contains 22"
   ]
  },
  {
   "cell_type": "code",
   "execution_count": 5,
   "id": "55ac6b4d",
   "metadata": {},
   "outputs": [],
   "source": [
    "bacon =22"
   ]
  },
  {
   "cell_type": "code",
   "execution_count": 6,
   "id": "72b472b5",
   "metadata": {},
   "outputs": [
    {
     "data": {
      "text/plain": [
       "23"
      ]
     },
     "execution_count": 6,
     "metadata": {},
     "output_type": "execute_result"
    }
   ],
   "source": [
    "bacon+1"
   ]
  },
  {
   "cell_type": "code",
   "execution_count": 11,
   "id": "253beff7",
   "metadata": {},
   "outputs": [
    {
     "data": {
      "text/plain": [
       "22"
      ]
     },
     "execution_count": 11,
     "metadata": {},
     "output_type": "execute_result"
    }
   ],
   "source": [
    "bacon"
   ]
  },
  {
   "cell_type": "code",
   "execution_count": null,
   "id": "7f52d3db",
   "metadata": {},
   "outputs": [],
   "source": [
    "7. What should the values of the following two terms be?\n",
    "'spam' + 'spamspam'\n",
    "'spam' * 3\n",
    "a)'spamspamspam'"
   ]
  },
  {
   "cell_type": "code",
   "execution_count": 7,
   "id": "55a52bf5",
   "metadata": {},
   "outputs": [
    {
     "data": {
      "text/plain": [
       "'spamspamspam'"
      ]
     },
     "execution_count": 7,
     "metadata": {},
     "output_type": "execute_result"
    }
   ],
   "source": [
    "'spam' + 'spamspam'"
   ]
  },
  {
   "cell_type": "code",
   "execution_count": 8,
   "id": "50bd400a",
   "metadata": {},
   "outputs": [
    {
     "data": {
      "text/plain": [
       "'spamspamspam'"
      ]
     },
     "execution_count": 8,
     "metadata": {},
     "output_type": "execute_result"
    }
   ],
   "source": [
    "'spam' * 3"
   ]
  },
  {
   "cell_type": "code",
   "execution_count": null,
   "id": "9a3636b6",
   "metadata": {},
   "outputs": [],
   "source": [
    "8. Why is eggs a valid variable name while 100 is invalid?\n",
    "a) A variable name cannot start with a number so 100 is invalid\n",
    "variable name can start string so eggs is valid\n"
   ]
  },
  {
   "cell_type": "code",
   "execution_count": 9,
   "id": "61df9cbe",
   "metadata": {},
   "outputs": [],
   "source": [
    "eggs=10"
   ]
  },
  {
   "cell_type": "code",
   "execution_count": 10,
   "id": "f59575d0",
   "metadata": {},
   "outputs": [
    {
     "ename": "SyntaxError",
     "evalue": "cannot assign to literal (Temp/ipykernel_6524/1420227245.py, line 1)",
     "output_type": "error",
     "traceback": [
      "\u001b[1;36m  File \u001b[1;32m\"C:\\Users\\SIVANAG`\\AppData\\Local\\Temp/ipykernel_6524/1420227245.py\"\u001b[1;36m, line \u001b[1;32m1\u001b[0m\n\u001b[1;33m    100=10\u001b[0m\n\u001b[1;37m    ^\u001b[0m\n\u001b[1;31mSyntaxError\u001b[0m\u001b[1;31m:\u001b[0m cannot assign to literal\n"
     ]
    }
   ],
   "source": [
    "100=10"
   ]
  },
  {
   "cell_type": "code",
   "execution_count": null,
   "id": "3e008ebe",
   "metadata": {},
   "outputs": [],
   "source": [
    "9. What three functions can be used to get the integer, floating-point number, or string version of a value?\n",
    "a) int(),str(),float()"
   ]
  },
  {
   "cell_type": "code",
   "execution_count": null,
   "id": "ca495553",
   "metadata": {},
   "outputs": [],
   "source": [
    "10. Why does this expression cause an error? How can you fix it?\n",
    "'I have eaten ' + 99 + ' burritos.'\n",
    "a)Unsupported operand type i.e, int + str cannot be concatenated\n",
    "to fix this error we use format()\n",
    "a = 99\n",
    "txt = \"I have eaten {}\"+ \" burritos\"\n",
    "print( txt.format(a) )\n"
   ]
  },
  {
   "cell_type": "code",
   "execution_count": 12,
   "id": "d4e8e5ed",
   "metadata": {},
   "outputs": [
    {
     "name": "stdout",
     "output_type": "stream",
     "text": [
      "I have eaten 99 burritos\n"
     ]
    }
   ],
   "source": [
    "a = 99\n",
    "txt = \"I have eaten {}\"+ \" burritos\"\n",
    "print( txt.format(a) )\n"
   ]
  }
 ],
 "metadata": {
  "kernelspec": {
   "display_name": "Python 3 (ipykernel)",
   "language": "python",
   "name": "python3"
  },
  "language_info": {
   "codemirror_mode": {
    "name": "ipython",
    "version": 3
   },
   "file_extension": ".py",
   "mimetype": "text/x-python",
   "name": "python",
   "nbconvert_exporter": "python",
   "pygments_lexer": "ipython3",
   "version": "3.9.7"
  }
 },
 "nbformat": 4,
 "nbformat_minor": 5
}
