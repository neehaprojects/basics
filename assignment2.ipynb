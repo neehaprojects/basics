{
 "cells": [
  {
   "cell_type": "code",
   "execution_count": null,
   "id": "10e68774",
   "metadata": {},
   "outputs": [],
   "source": [
    "1.What are the two values of the Boolean data type? How do you write them?"
   ]
  },
  {
   "cell_type": "code",
   "execution_count": null,
   "id": "8dedaeb5",
   "metadata": {},
   "outputs": [],
   "source": [
    "answer)True and False, we have to write first letter capital remaining letters small"
   ]
  },
  {
   "cell_type": "code",
   "execution_count": null,
   "id": "320dfce7",
   "metadata": {},
   "outputs": [],
   "source": [
    "2. What are the three different types of Boolean operators?"
   ]
  },
  {
   "cell_type": "code",
   "execution_count": null,
   "id": "73885c0b",
   "metadata": {},
   "outputs": [],
   "source": [
    "answer)and, or, not, ==,>=,<="
   ]
  },
  {
   "cell_type": "code",
   "execution_count": null,
   "id": "3afedfd4",
   "metadata": {},
   "outputs": [],
   "source": [
    "3. Make a list of each Boolean operator's truth tables \n",
    "(i.e. every possible combination of Boolean values for the operator and what it evaluate )."
   ]
  },
  {
   "cell_type": "code",
   "execution_count": null,
   "id": "1ab0073b",
   "metadata": {},
   "outputs": [],
   "source": [
    "answer)(True and True)\n",
    "(True and False)\n",
    "(False and True)\n",
    "(False and False)\n",
    "(True or True)\n",
    "(True or False)\n",
    "(False or True)\n",
    "(False or False)\n",
    "(not True)\n",
    "(not False)\n",
    "==,<=,>=,!=,>,<\n",
    "a=2\n",
    "b=3\n",
    "print(\"a==b\",a==b)\n",
    "print(\"a<=b\",a<=b)\n",
    "print(\"a>=b\",a>=b)\n",
    "print(\"a!=b\",a!=b)\n",
    "print(\"a>b\",a>b)\n",
    "print(\"a<b\",a<b)\n"
   ]
  },
  {
   "cell_type": "code",
   "execution_count": 4,
   "id": "49c1fb9c",
   "metadata": {},
   "outputs": [
    {
     "name": "stdout",
     "output_type": "stream",
     "text": [
      "a==b False\n",
      "a<=b True\n",
      "a>=b False\n",
      "a!=b True\n",
      "a>b False\n",
      "a<b True\n"
     ]
    }
   ],
   "source": [
    "a=2\n",
    "b=3\n",
    "print(\"a==b\",a==b)\n",
    "print(\"a<=b\",a<=b)\n",
    "print(\"a>=b\",a>=b)\n",
    "print(\"a!=b\",a!=b)\n",
    "print(\"a>b\",a>b)\n",
    "print(\"a<b\",a<b)\n",
    "a=\"abc\"\n",
    "b=\"xyz\"\n",
    "c=\"Abc\"\n",
    "print(\"a==b\",a==b)\n",
    "print(\"a==c\",a==c)"
   ]
  },
  {
   "cell_type": "code",
   "execution_count": 8,
   "id": "2dece1ff",
   "metadata": {},
   "outputs": [
    {
     "name": "stdout",
     "output_type": "stream",
     "text": [
      "a==b False\n",
      "a==c False\n"
     ]
    }
   ],
   "source": [
    "a=\"abc\"\n",
    "b=\"xyz\"\n",
    "c=\"Abc\"\n",
    "print(\"a==b\",a==b)\n",
    "print(\"a==c\",a==c)\n"
   ]
  },
  {
   "cell_type": "code",
   "execution_count": 12,
   "id": "8b8bde72",
   "metadata": {
    "scrolled": true
   },
   "outputs": [
    {
     "name": "stdout",
     "output_type": "stream",
     "text": [
      "True\n",
      "False\n",
      "False\n",
      "False\n"
     ]
    }
   ],
   "source": [
    "print(True and True)\n",
    "print(True and False)\n",
    "print(False and True)\n",
    "print(False and False)"
   ]
  },
  {
   "cell_type": "code",
   "execution_count": 13,
   "id": "a38d20a3",
   "metadata": {},
   "outputs": [
    {
     "name": "stdout",
     "output_type": "stream",
     "text": [
      "True\n",
      "True\n",
      "True\n",
      "False\n"
     ]
    }
   ],
   "source": [
    "print(True or True)\n",
    "print(True or False)\n",
    "print(False or True)\n",
    "print(False or False)"
   ]
  },
  {
   "cell_type": "code",
   "execution_count": 16,
   "id": "f588e922",
   "metadata": {},
   "outputs": [
    {
     "name": "stdout",
     "output_type": "stream",
     "text": [
      "False\n",
      "True\n"
     ]
    }
   ],
   "source": [
    "print(not True)\n",
    "print(not False)"
   ]
  },
  {
   "cell_type": "code",
   "execution_count": null,
   "id": "bd801cfd",
   "metadata": {},
   "outputs": [],
   "source": [
    "4. What are the values of the following expressions?\n",
    "(5 > 4) and (3 == 5)\n",
    "not (5 > 4)\n",
    "(5 > 4) or (3 == 5)\n",
    "not ((5 > 4) or (3 == 5))\n",
    "(True and True) and (True == False)\n",
    "(not False) or (not True)\n"
   ]
  },
  {
   "cell_type": "code",
   "execution_count": null,
   "id": "9b964b36",
   "metadata": {},
   "outputs": [],
   "source": [
    "answer)\n",
    "False\n",
    "False\n",
    "True\n",
    "False\n",
    "False\n",
    "True"
   ]
  },
  {
   "cell_type": "code",
   "execution_count": 18,
   "id": "2ed260eb",
   "metadata": {},
   "outputs": [
    {
     "name": "stdout",
     "output_type": "stream",
     "text": [
      "False\n",
      "False\n",
      "True\n",
      "False\n",
      "False\n",
      "True\n"
     ]
    }
   ],
   "source": [
    "print((5 > 4) and (3 == 5))\n",
    "print(not (5 > 4))\n",
    "print((5 > 4) or (3 == 5))\n",
    "print(not ((5 > 4) or (3 == 5)))\n",
    "print((True and True) and (True == False))\n",
    "print((not False) or (not True))"
   ]
  },
  {
   "cell_type": "code",
   "execution_count": null,
   "id": "c600933d",
   "metadata": {},
   "outputs": [],
   "source": [
    "5. What are the six comparison operators?"
   ]
  },
  {
   "cell_type": "code",
   "execution_count": null,
   "id": "228879ed",
   "metadata": {},
   "outputs": [],
   "source": [
    "answer)\n",
    "equal to ==\n",
    "less than or equal to <=\n",
    "greater than or equal to >=\n",
    "no equal to !=\n",
    "greater than >\n",
    "less than <"
   ]
  },
  {
   "cell_type": "code",
   "execution_count": null,
   "id": "4622cb5e",
   "metadata": {},
   "outputs": [],
   "source": [
    "6. How do you tell the difference between the equal to and assignment operators?\n",
    "Describe a condition and when you would use one."
   ]
  },
  {
   "cell_type": "code",
   "execution_count": null,
   "id": "d7f197fc",
   "metadata": {},
   "outputs": [],
   "source": [
    "answer)\n",
    "== is the comparison opearator which compares the values, \n",
    "while equal to = is an assignment opearator which assigns the values to the variable\n",
    "for example if a=5 i.e, here we are assigning value to the variable 'a'\n",
    "while if a==5 means we are comparing the value which is stored in a variable,\n",
    "if its matches it gives True else it gives False"
   ]
  },
  {
   "cell_type": "code",
   "execution_count": 19,
   "id": "dfc67e4c",
   "metadata": {},
   "outputs": [],
   "source": [
    "a=5"
   ]
  },
  {
   "cell_type": "code",
   "execution_count": 20,
   "id": "22d0ea96",
   "metadata": {},
   "outputs": [
    {
     "data": {
      "text/plain": [
       "True"
      ]
     },
     "execution_count": 20,
     "metadata": {},
     "output_type": "execute_result"
    }
   ],
   "source": [
    "a==5"
   ]
  },
  {
   "cell_type": "code",
   "execution_count": null,
   "id": "2e34d793",
   "metadata": {},
   "outputs": [],
   "source": [
    "7. Identify the three blocks in this code:\n",
    "spam = 0\n",
    "if spam == 10:\n",
    "print('eggs')\n",
    "if spam > 5:\n",
    "print('bacon')\n",
    "else:\n",
    "print('ham')\n",
    "print('spam')\n",
    "print('spam')\n",
    "Answer)"
   ]
  },
  {
   "cell_type": "code",
   "execution_count": 21,
   "id": "8d7621a4",
   "metadata": {},
   "outputs": [
    {
     "name": "stdout",
     "output_type": "stream",
     "text": [
      "ham\n",
      "spam\n",
      "spam\n"
     ]
    }
   ],
   "source": [
    "\n",
    "spam = 0\n",
    "if spam == 10:\n",
    "    print('eggs')\n",
    "if spam > 5:\n",
    "    print('bacon')\n",
    "else:\n",
    "    print('ham')\n",
    "print('spam')\n",
    "print('spam')"
   ]
  },
  {
   "cell_type": "code",
   "execution_count": null,
   "id": "91b3c5ff",
   "metadata": {},
   "outputs": [],
   "source": [
    "8. Write code that prints Hello if 1 is stored in spam, prints Howdy if 2 is stored in spam, and prints Greetings! \n",
    "if anything else is stored in spam.\n",
    "Answer)"
   ]
  },
  {
   "cell_type": "code",
   "execution_count": 23,
   "id": "9df94cdc",
   "metadata": {},
   "outputs": [
    {
     "name": "stdout",
     "output_type": "stream",
     "text": [
      "Greetings!\n"
     ]
    }
   ],
   "source": [
    "\n",
    "if spam==1:\n",
    "    print(\"Hello\")\n",
    "if spam==2:\n",
    "    print(\"Howdy\")\n",
    "else:\n",
    "    print(\"Greetings!\")"
   ]
  },
  {
   "cell_type": "code",
   "execution_count": null,
   "id": "d3493af1",
   "metadata": {},
   "outputs": [],
   "source": [
    "9.If your programme is stuck in an endless loop, what keys you’ll press?"
   ]
  },
  {
   "cell_type": "code",
   "execution_count": null,
   "id": "555b54bd",
   "metadata": {},
   "outputs": [],
   "source": [
    "Answer)\n",
    "JUPYTER NOTEBOOK - INTERRUPT KERNEL\n",
    "CTRL-C"
   ]
  },
  {
   "cell_type": "code",
   "execution_count": null,
   "id": "ac590bb1",
   "metadata": {},
   "outputs": [],
   "source": [
    "10. How can you tell the difference between break and continue?"
   ]
  },
  {
   "cell_type": "code",
   "execution_count": null,
   "id": "04314065",
   "metadata": {},
   "outputs": [],
   "source": [
    "Answer)\n",
    "Break statement moves the excution out of the loop, i.e, excution comes to just after the loop, \n",
    "while continue statement moves the excution to start of the loopi.e, every time after the continue execution comes to start point of the loop"
   ]
  },
  {
   "cell_type": "code",
   "execution_count": null,
   "id": "c6cbf493",
   "metadata": {},
   "outputs": [],
   "source": [
    "11. In a for loop, what is the difference between range(10), range(0, 10), and range(0, 10, 1)?"
   ]
  },
  {
   "cell_type": "code",
   "execution_count": null,
   "id": "a9061700",
   "metadata": {},
   "outputs": [],
   "source": [
    "Answer)\n",
    "range(10) calls the start and end point value in range, i.e, it ranges from 0 to lessthan 10 \n",
    "range(0,10) says that the lopp starts from 0 and ends at 10(not included)\n",
    "range(0, 10, 1) says that ranges from 0 to 10 and the loop increases variable by 1 on each iteration"
   ]
  },
  {
   "cell_type": "code",
   "execution_count": 30,
   "id": "d44feaf8",
   "metadata": {},
   "outputs": [
    {
     "name": "stdout",
     "output_type": "stream",
     "text": [
      "0\n",
      "1\n",
      "2\n",
      "3\n",
      "4\n",
      "5\n",
      "6\n",
      "7\n",
      "8\n",
      "9\n"
     ]
    }
   ],
   "source": [
    "for i in range(10):\n",
    "    print(i)"
   ]
  },
  {
   "cell_type": "code",
   "execution_count": 31,
   "id": "4ecc2d6f",
   "metadata": {},
   "outputs": [
    {
     "name": "stdout",
     "output_type": "stream",
     "text": [
      "0\n",
      "1\n",
      "2\n",
      "3\n",
      "4\n",
      "5\n",
      "6\n",
      "7\n",
      "8\n",
      "9\n"
     ]
    }
   ],
   "source": [
    "for j in range(0,10):\n",
    "    print(j)"
   ]
  },
  {
   "cell_type": "code",
   "execution_count": 32,
   "id": "13cae51c",
   "metadata": {},
   "outputs": [
    {
     "name": "stdout",
     "output_type": "stream",
     "text": [
      "0\n",
      "1\n",
      "2\n",
      "3\n",
      "4\n",
      "5\n",
      "6\n",
      "7\n",
      "8\n",
      "9\n"
     ]
    }
   ],
   "source": [
    "for k in range(0,10,1):\n",
    "    print(k)"
   ]
  },
  {
   "cell_type": "code",
   "execution_count": null,
   "id": "04ee534d",
   "metadata": {},
   "outputs": [],
   "source": [
    "12. Write a short program that prints the numbers 1 to 10 using a for loop. \n",
    "Then write an equivalent program that prints the numbers 1 to 10 using a while loop.\n",
    "answer)"
   ]
  },
  {
   "cell_type": "code",
   "execution_count": 37,
   "id": "03ab89d7",
   "metadata": {},
   "outputs": [
    {
     "name": "stdout",
     "output_type": "stream",
     "text": [
      "1\n",
      "2\n",
      "3\n",
      "4\n",
      "5\n",
      "6\n",
      "7\n",
      "8\n",
      "9\n",
      "10\n"
     ]
    }
   ],
   "source": [
    "\n",
    "for i in range(1,11):\n",
    "    print(i) \n",
    "  "
   ]
  },
  {
   "cell_type": "code",
   "execution_count": 39,
   "id": "ce2cfdad",
   "metadata": {},
   "outputs": [
    {
     "name": "stdout",
     "output_type": "stream",
     "text": [
      "1\n",
      "2\n",
      "3\n",
      "4\n",
      "5\n",
      "6\n",
      "7\n",
      "8\n",
      "9\n",
      "10\n"
     ]
    }
   ],
   "source": [
    "i=1\n",
    "while i<11:\n",
    "    print(i)\n",
    "    i=i+1"
   ]
  },
  {
   "cell_type": "code",
   "execution_count": null,
   "id": "0d9b2939",
   "metadata": {},
   "outputs": [],
   "source": [
    "13. If you had a function named bacon() inside a module named spam, how would you call it after importing spam?"
   ]
  },
  {
   "cell_type": "code",
   "execution_count": null,
   "id": "8f4317e0",
   "metadata": {},
   "outputs": [],
   "source": [
    "Answer)\n",
    "spam.bacon()"
   ]
  }
 ],
 "metadata": {
  "kernelspec": {
   "display_name": "Python 3 (ipykernel)",
   "language": "python",
   "name": "python3"
  },
  "language_info": {
   "codemirror_mode": {
    "name": "ipython",
    "version": 3
   },
   "file_extension": ".py",
   "mimetype": "text/x-python",
   "name": "python",
   "nbconvert_exporter": "python",
   "pygments_lexer": "ipython3",
   "version": "3.9.7"
  }
 },
 "nbformat": 4,
 "nbformat_minor": 5
}
